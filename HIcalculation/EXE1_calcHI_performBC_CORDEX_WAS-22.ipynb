{
 "cells": [
  {
   "cell_type": "markdown",
   "metadata": {},
   "source": [
    "## Description\n",
    "This is the main script to calculate HI exceedances of the thresholds 27 degC, 32 degC, and 41 degC for CORDEX WAS-22 models. First, HI is calculated and bias adjustment is performed using the QDM method with WFDE5 as reference dataset. Subsequently, the yearly number of exceedances above 27 degC, 32 degC, and 41 degC is computed."
   ]
  },
  {
   "cell_type": "code",
   "execution_count": null,
   "metadata": {
    "scrolled": false
   },
   "outputs": [],
   "source": [
    "import os\n",
    "import sys\n",
    "import rpy2.robjects as ro\n",
    "import xarray as xr\n",
    "import time as t_util\n",
    "import numpy as np\n",
    "import yaml\n",
    "\n",
    "#My functions\n",
    "sys.path.insert(0,'/div/amoc/exhaustion/Heat_Health_Global/Scripts/functions_Py/')\n",
    "import my_functions as my_fun\n",
    "import regrid_WFDE5 as rg_WFDE5\n",
    "import GET_heat_indices_v2 as getHI\n",
    "import GET_HI_average_thresh_exeedance as getMEAN_THRES\n"
   ]
  },
  {
   "cell_type": "markdown",
   "metadata": {},
   "source": [
    "## Define folders "
   ]
  },
  {
   "cell_type": "code",
   "execution_count": null,
   "metadata": {
    "scrolled": false
   },
   "outputs": [],
   "source": [
    "dir_data    = '/div/amoc/archive/tmp_clemens/'\n",
    "dir_WFDE5   = dir_data + 'WFDE5/'\n",
    "dir_scripts = '/div/amoc/exhaustion/Heat_Health_Global/Scripts/'\n",
    "dir_names   = '/div/amoc/exhaustion/Heat_Health_Global/Scripts/PROJECT_IPCC_AR6/Model_lists/'\n",
    "dir_regr    = '/div/amoc/exhaustion/Heat_Health_Global/Data/Masks_Heights_Grids/Regridding/'\n",
    "dir_GWL     = '/div/amoc/exhaustion/Heat_Health_Global/Data/IPCC_AR6/Warming_levels_CMIP5_CMIP6/warming_levels/cmip5_all_ens/'\n",
    "dir_HIday   = '/div/amoc/exhaustion/Heat_Health_Global/Data/Heat_Indices/Heat_indices_daily/'\n",
    "dir_save    = '/div/amoc/exhaustion/Heat_Health_Global/Data/IPCC_AR6/'\n"
   ]
  },
  {
   "cell_type": "markdown",
   "metadata": {},
   "source": [
    "## Define parameters"
   ]
  },
  {
   "cell_type": "code",
   "execution_count": null,
   "metadata": {
    "scrolled": false
   },
   "outputs": [],
   "source": [
    "#Source R functions\n",
    "r = ro.r\n",
    "r.source(dir_scripts + 'functions_R/quant_delta_map_vTimeSlices.r')\n",
    "\n",
    "#Define models and RCPs which should be used\n",
    "all_models = dict()\n",
    "all_models['rcp85'] = []\n",
    "all_models['rcp26'] = []\n",
    "with open(dir_names + 'Models_CORDEX-WAS-22_RCP26.txt', 'r') as filehandle:\n",
    "    for line in filehandle:\n",
    "        all_models['rcp26'].append(eval(line[:-1]))\n",
    "with open(dir_names + 'Models_CORDEX-WAS-22_RCP85.txt', 'r') as filehandle:\n",
    "    for line in filehandle:\n",
    "        all_models['rcp85'].append(eval(line[:-1]))\n",
    "\n",
    "#Define heat indices, RCPs and BC method\n",
    "heat_indices = ['HI_NOAA']\n",
    "RCPs         = ['rcp85', 'rcp26']\n",
    "BC_methods   = ['_QDM_HI']\n",
    "\n",
    "#Define variables and RCPs\n",
    "var_names_ORIG = ['tasmax', 'huss', 'ps']\n",
    "var_names_CORR = ['tasmax', 'huss', 'sp']\n",
    "\n",
    "#Define reference period and application periods for BC\n",
    "time_orig = [1981, 2100]\n",
    "time_ref  = [1981, 2010]\n",
    "time_fix  = [[1995, 2014],\n",
    "             [2041, 2060], \n",
    "             [2081, 2100]]\n",
    "\n",
    "#Read warming levels\n",
    "fname = dir_GWL + 'cmip5_warming_levels_all_ens_1850_1900_no_bounds_check.yml'\n",
    "with open(fname, 'r') as file:\n",
    "    GWL_data = yaml.safe_load(file)\n",
    "\n",
    "#Define warming levels\n",
    "GWL_levels = ['15', '20', '30', '40']\n",
    "\n",
    "#Use all grid cells (also ocean) if false\n",
    "mask_land = False\n",
    "\n",
    "#CORDEX region and directories\n",
    "CORDEX_reg = 'WAS-22'\n",
    "CORDEX_str = 'CORDEX-' + CORDEX_reg\n",
    "dir_CORDEX_files = '/div/amoc/CORDEX/rawfiles/' + CORDEX_reg + '/'\n",
    "dir_LSM_in       = dir_CORDEX_files + 'historical/sftlf/'\n",
    "dir_CORDEX_reg   = dir_data + CORDEX_reg + '/'\n",
    "\n",
    "#Define regrid name\n",
    "regrid_name = CORDEX_reg + '_rlat-stand'\n"
   ]
  },
  {
   "cell_type": "markdown",
   "metadata": {},
   "source": [
    "## Calculation"
   ]
  },
  {
   "cell_type": "code",
   "execution_count": null,
   "metadata": {
    "scrolled": true
   },
   "outputs": [],
   "source": [
    "#Loop over RCPs\n",
    "for RCP in RCPs:\n",
    "\n",
    "    #Select models\n",
    "    models = all_models[RCP]\n",
    "\n",
    "    #Loop over models\n",
    "    for model in models:\n",
    "        \n",
    "        #Get all necessary strings\n",
    "        model_str = model[0] + '_' + model[1]\n",
    "        member    = model[2]\n",
    "        COR_MOD_str = CORDEX_str + '_' + model_str\n",
    "        BC_str      = CORDEX_str + '_' + model[1]\n",
    "        time_str     = str(time_orig[0]) + '-' + str(time_orig[1])\n",
    "        time_str_ref = str(time_ref[0]) + '-' + str(time_ref[1])\n",
    "        \n",
    "        print(model_str)\n",
    "        \n",
    "        #Get name of CMIP5 driving model\n",
    "        if ('CNRM-CERFAC' in model[0]) or ('CSIRO-QCCCE' in model[0]) or ('MPI-M' in model[0]) or ('NOAA-GFDL' in model[0]) or ('CSIRO-BOM' in model[0]):\n",
    "            mod_CMIP5 = '-'.join(model[0].split('-')[2:])\n",
    "        else:\n",
    "            mod_CMIP5 = '-'.join(model[0].split('-')[1:])\n",
    "\n",
    "        #Define and create folders\n",
    "        dir_WFDE5_out  = dir_WFDE5 + 'WFDE5_regrid/' + regrid_name + '_grid/'\n",
    "        dir_CORDEX_in  = dir_CORDEX_reg + COR_MOD_str + '/'\n",
    "        dir_CORDEX_out = dir_HIday + COR_MOD_str + '/'\n",
    "        dir_CORDEX_QDM = dir_HIday + COR_MOD_str + '_QDM_HI/'\n",
    "        if not os.path.exists(dir_CORDEX_out):  os.mkdir(dir_CORDEX_out)\n",
    "        if not os.path.exists(dir_CORDEX_QDM):  os.mkdir(dir_CORDEX_QDM)\n",
    "\n",
    "        #Define year vectors for subsetting heat index calculation\n",
    "        vec_orig, dyear_orig = np.arange(time_orig[0], time_orig[1], 10), 10\n",
    "        vec_QDM,  dyear_QDM  = np.arange(1991, 2090, 10), 10\n",
    "\n",
    "        \n",
    "        ########### PREPARE DATA ###########\n",
    "\n",
    "        #Copy and concatenated data\n",
    "        calendar = my_fun.concat_CORDEX(model, var_names_ORIG, RCP, dir_data, CORDEX_reg, time_orig, member, extract_version=True)\n",
    "        if '360' in calendar:  DOYs = 360\n",
    "        else:                  DOYs = 365\n",
    "\n",
    "        #Create grid description and standard grid NetCDF file\n",
    "        file_grid = [file for file in os.listdir(dir_CORDEX_in) if 'tasmax_' in file]\n",
    "        file_grid = dir_CORDEX_in + file_grid[0]\n",
    "        os.system(\"cdo griddes -selvar,tasmax \" + file_grid + \" > \" + dir_regr + 'grid_xy_' + COR_MOD_str)\n",
    "        os.system('cdo -f nc -topo,'+ dir_regr + 'grid_xy_' + COR_MOD_str + \" \" + dir_regr + \"Standard_grid_\" + COR_MOD_str + \".nc\")\n",
    "\n",
    "        #Read time periods when certain global warming levels (GWL) are reached\n",
    "        time_GWL = []\n",
    "        for level in GWL_levels:\n",
    "            data_level = GWL_data['warming_level_' + level]\n",
    "            entry_sel = [entry for entry in data_level if entry['model']==mod_CMIP5 and entry['exp']==RCP and entry['ensemble']==member]\n",
    "            if len(entry_sel)==1:\n",
    "                time_GWL.append([entry_sel[0]['start_year'], entry_sel[0]['end_year']])\n",
    "            else:\n",
    "                print('Level in ' + mod_CMIP5 + ' for ' + str(int(level)/10) + ' K not available')\n",
    "        \n",
    "        #Regrid WFDE5 data to model grid\n",
    "        rg_WFDE5.regrid_HSIs_WFDE5_to_CORDEX(COR_MOD_str, heat_indices, dir_WFDE5, regrid_name, method='bil')\n",
    "        remove_WFDE5 = True     \n",
    "        \n",
    "        #Define all time slices (fixed times and GWL times)\n",
    "        time_app = time_fix + time_GWL\n",
    "        \n",
    "        #Loop over heat indices\n",
    "        for heat_ind in heat_indices:\n",
    "            \n",
    "            #Calculate HSI for CORDEX data\n",
    "            getHI.GET_heat_indices_v2(COR_MOD_str, RCP, member, heat_ind, dir_CORDEX_in, dir_CORDEX_out, vec_orig, dyear_orig)\n",
    "            \n",
    "            #Loop over application time periods\n",
    "            for time_sel in time_app:\n",
    "                \n",
    "                #String for application time\n",
    "                time_app_str = str(time_sel[0]) + '-' + str(time_sel[1])\n",
    "                \n",
    "                #Define files and folders for output\n",
    "                fname_OBS = dir_WFDE5_out + heat_ind + '_WFDE5_' + time_str_ref + '.nc'\n",
    "                fname_MOD = dir_CORDEX_out + heat_ind + '_' + COR_MOD_str + '_' + RCP + '_' + member + '_' + time_str + '.nc'\n",
    "                fname_out = dir_CORDEX_QDM + heat_ind + '_' + COR_MOD_str + '_' + RCP + '_' + member + '_' + time_app_str + '.nc'\n",
    "                dir_QDM_files = dir_CORDEX_QDM + 'Files_' + time_app_str + '/'\n",
    "                if not os.path.exists(dir_QDM_files): os.mkdir(dir_QDM_files)\n",
    "\n",
    "                #Perform quantile mapping\n",
    "                t_start = t_util.time()\n",
    "                waldo = r.quant_delta_map_vTimeSlices(BC_str, fname_OBS, fname_MOD, dir_data, dir_QDM_files, heat_ind, time_ref, time_sel, time_orig, DOYs, mask_land)\n",
    "                my_fun.collect_BC_data(dir_QDM_files, fname_MOD, fname_out, heat_ind, time_ref, time_sel)\n",
    "                \n",
    "                #Print time\n",
    "                t_stop = t_util.time()\n",
    "                print(\"Time for BC: \" + str(t_stop - t_start))\n",
    "                \n",
    "                #Calculate threshold exceedance\n",
    "                getMEAN_THRES.calc_thresh_IPCC(model_str, RCP, dir_HIday, dir_save, heat_ind, BC_methods, [time_sel], member, CORDEX_str)\n",
    "       \n",
    "        #Remove all temporary model data on amoc\n",
    "        my_fun.remove_directories_CORDEX(dir_CORDEX_reg, model_str, COR_MOD_str, dir_data, dir_HIday, regrid_name, remove_WFDE5)\n"
   ]
  },
  {
   "cell_type": "code",
   "execution_count": null,
   "metadata": {
    "scrolled": false
   },
   "outputs": [],
   "source": []
  }
 ],
 "metadata": {
  "anaconda-cloud": {},
  "kernelspec": {
   "display_name": "Python 3",
   "language": "python",
   "name": "python3"
  },
  "language_info": {
   "codemirror_mode": {
    "name": "ipython",
    "version": 3
   },
   "file_extension": ".py",
   "mimetype": "text/x-python",
   "name": "python",
   "nbconvert_exporter": "python",
   "pygments_lexer": "ipython3",
   "version": "3.7.3"
  }
 },
 "nbformat": 4,
 "nbformat_minor": 2
}
