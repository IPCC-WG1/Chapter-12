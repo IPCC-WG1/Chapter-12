{
 "cells": [
  {
   "cell_type": "code",
   "execution_count": 1,
   "metadata": {},
   "outputs": [
    {
     "data": {
      "text/plain": [
       "<xarray.DataArray (time: 12, region: 46)>\n",
       "array([[0.      , 0.      , 0.      , ..., 0.002866, 0.      , 0.      ],\n",
       "       [0.      , 0.      , 0.      , ..., 0.      , 0.      , 0.      ],\n",
       "       [0.      , 0.      , 0.      , ..., 0.      , 0.      , 0.      ],\n",
       "       ...,\n",
       "       [0.      , 0.      , 0.005968, ..., 0.      , 0.      , 0.      ],\n",
       "       [0.      , 0.      , 0.      , ..., 0.      , 0.      , 0.      ],\n",
       "       [0.      , 0.      , 0.      , ..., 0.      , 0.      , 0.      ]])\n",
       "Coordinates:\n",
       "  * time     (time) float64 0.0 31.0 59.0 90.0 120.0 ... 243.0 273.0 304.0 334.0\n",
       "    member   |S24 'NorESM2-LM_r1i1p1f1'\n",
       "  * region   (region) int64 0 1 2 3 4 5 6 7 8 9 ... 37 38 39 40 41 42 43 44 45\n",
       "    abbrevs  (region) <U4 u'GIC' u'NWN' u'NEN' u'WNA' ... u'NZ' u'EAN' u'WAN'\n",
       "    names    (region) <U22 u'Greenland/Iceland' ... u'W.Antarctica'"
      ]
     },
     "execution_count": 1,
     "metadata": {},
     "output_type": "execute_result"
    }
   ],
   "source": [
    "import regionmask\n",
    "import xarray as xr\n",
    "import cartopy.crs as ccrs\n",
    "import matplotlib.pyplot as plt\n",
    "import numpy as np\n",
    "#np.set_printoptions(edgeitems=2)\n",
    "\n",
    "def weighted_mean(da, weights, dim):\n",
    "    \"\"\"Reduce da by a weighted mean along some dimension(s).\n",
    "\n",
    "    Parameters\n",
    "    ----------\n",
    "    da : DataArray\n",
    "        Object over which the weighted reduction operation is applied.    \n",
    "    weights : DataArray\n",
    "        An array of weights associated with the values in this Dataset.\n",
    "    dim : str or sequence of str, optional\n",
    "        Dimension(s) over which to apply the weighted `mean`.\n",
    "        \n",
    "    Returns\n",
    "    -------\n",
    "    weighted_mean : DataArray\n",
    "        New DataArray with weighted mean applied to its data and\n",
    "        the indicated dimension(s) removed.\n",
    "    \"\"\"\n",
    "\n",
    "    weighted_sum = (da * weights).sum(dim=dim, skipna=True)\n",
    "    # need to mask weights where data is not valid\n",
    "    masked_weights = weights.where(da.notnull())\n",
    "    sum_of_weights = masked_weights.sum(dim=dim, skipna=True)\n",
    "    valid_weights = sum_of_weights != 0\n",
    "    sum_of_weights = sum_of_weights.where(valid_weights)\n",
    "\n",
    "    return weighted_sum / sum_of_weights\n",
    "\n",
    "def average_over_AR6_region(filename, variable, region_name):\n",
    "\n",
    "    # -- AR6 regions\n",
    "    #ar6_all = regionmask.defined_regions.ar6.all\n",
    "    # -- Get the regions\n",
    "    ar6_land = regionmask.defined_regions.ar6.land\n",
    "\n",
    "    #ax = ar6_all.plot()\n",
    "    # -- Get land/sea mask (generic)\n",
    "    land_110 = regionmask.defined_regions.natural_earth.land_110\n",
    "\n",
    "    # -- Get data\n",
    "    ds = xr.open_dataset(filename, decode_times=False)\n",
    "    dat = ds[variable]\n",
    "    dat.values = np.array(dat.values, dtype=np.float32)\n",
    "\n",
    "    # -- Mask the data\n",
    "    mask_3D = ar6_land.mask_3D(dat) # AR6 mask\n",
    "    land_mask = land_110.mask_3D(dat) # Land sea mask\n",
    "    mask_lsm = mask_3D * land_mask.squeeze(drop=True) # Combine the two\n",
    "\n",
    "    weights = np.cos(np.deg2rad(dat.lat))\n",
    "    \n",
    "    if region_name=='all':\n",
    "        return weighted_mean(dat, mask_3D * weights, (\"lon\", \"lat\"))\n",
    "    else:\n",
    "        if isinstance(region_name, list):\n",
    "            res = list()\n",
    "            for region in region_name:\n",
    "                region_mask = mask_lsm.isel(region=list(mask_3D.abbrevs).index(region))\n",
    "                dat_region = dat.where(region_mask)\n",
    "                weights_region = weights.where(region_mask)\n",
    "                res.append( weighted_mean(dat_region, region_mask*weights_region, (\"lon\",\"lat\")) )\n",
    "            return res\n",
    "        else:\n",
    "            region_mask = mask_lsm.isel(region=list(mask_3D.abbrevs).index(region_name))\n",
    "            dat_region = dat.where(region_mask)\n",
    "            weights_region = weights.where(region_mask)            \n",
    "            return weighted_mean(dat_region, region_mask*weights_region, (\"lon\",\"lat\"))\n",
    "    \n",
    "\n",
    "region_name = \"all\"\n",
    "variable = 'tx35'\n",
    "filename = \"/data/jservon/IPCC/tx35/individual_models/CMIP6_ssp585_tx35_2100_NorESM2-LM_r1i1p1f1.nc\"\n",
    "\n",
    "tmp = average_over_AR6_region(filename, variable, region_name)\n",
    "tmp"
   ]
  },
  {
   "cell_type": "code",
   "execution_count": null,
   "metadata": {},
   "outputs": [],
   "source": [
    "# -- Read the CMIP6 data\n",
    "\n",
    "\n",
    "\n",
    "# -- for baseline, GWLs, 85 mid and late, 26 mid and late\n",
    "# -- Compute averages\n",
    "# -- Save in json: one json file per period/GWLs"
   ]
  },
  {
   "cell_type": "code",
   "execution_count": 2,
   "metadata": {},
   "outputs": [
    {
     "data": {
      "text/plain": [
       "2.0"
      ]
     },
     "execution_count": 2,
     "metadata": {},
     "output_type": "execute_result"
    }
   ],
   "source": [
    "import numpy as np\n",
    "test = [1,2,3]\n",
    "np.mean(test)"
   ]
  },
  {
   "cell_type": "code",
   "execution_count": 10,
   "metadata": {},
   "outputs": [
    {
     "data": {
      "text/plain": [
       "<xarray.DataArray (time: 12)>\n",
       "array([0.000000e+00, 7.005170e-02, 3.435485e-01, 5.291421e+00, 9.001981e+00,\n",
       "       2.052520e+01, 2.777097e+01, 2.695861e+01, 1.489953e+01, 5.912698e+00,\n",
       "       0.000000e+00, 1.635167e-02])\n",
       "Coordinates:\n",
       "  * time     (time) float64 0.0 31.0 59.0 90.0 120.0 ... 243.0 273.0 304.0 334.0\n",
       "    member   |S24 'NorESM2-LM_r1i1p1f1'\n",
       "    region   int64 4\n",
       "    abbrevs  <U4 u'CNA'\n",
       "    names    <U22 u'C.North-America'"
      ]
     },
     "execution_count": 10,
     "metadata": {},
     "output_type": "execute_result"
    }
   ],
   "source": [
    "tmp.sel(region=4)"
   ]
  },
  {
   "cell_type": "code",
   "execution_count": 12,
   "metadata": {},
   "outputs": [
    {
     "data": {
      "text/plain": [
       "<regionmask.Regions>\n",
       "Name:     AR6 reference regions (land only)\n",
       "Source:   Iturbide et al., 2020 (Earth Syst. Sci. Data)\n",
       "\n",
       "Regions:\n",
       "  0  GIC  Greenland/Iceland\n",
       "  1  NWN  N.W.North-America\n",
       "  2  NEN  N.E.North-America\n",
       "  3  WNA    W.North-America\n",
       "  4  CNA    C.North-America\n",
       "..   ...                ...\n",
       " 41  EAU        E.Australia\n",
       " 42  SAU        S.Australia\n",
       " 43   NZ        New-Zealand\n",
       " 44  EAN       E.Antarctica\n",
       " 45  WAN       W.Antarctica\n",
       "\n",
       "[46 regions]"
      ]
     },
     "execution_count": 12,
     "metadata": {},
     "output_type": "execute_result"
    }
   ],
   "source": [
    "ar6_land = regionmask.defined_regions.ar6.land\n",
    "ar6_land"
   ]
  },
  {
   "cell_type": "code",
   "execution_count": 13,
   "metadata": {},
   "outputs": [
    {
     "data": {
      "text/plain": [
       "[u'GIC',\n",
       " u'NWN',\n",
       " u'NEN',\n",
       " u'WNA',\n",
       " u'CNA',\n",
       " u'ENA',\n",
       " u'NCA',\n",
       " u'SCA',\n",
       " u'CAR',\n",
       " u'NWS',\n",
       " u'NSA',\n",
       " u'NES',\n",
       " u'SAM',\n",
       " u'SWS',\n",
       " u'SES',\n",
       " u'SSA',\n",
       " u'NEU',\n",
       " u'WCE',\n",
       " u'EEU',\n",
       " u'MED',\n",
       " u'SAH',\n",
       " u'WAF',\n",
       " u'CAF',\n",
       " u'NEAF',\n",
       " u'SEAF',\n",
       " u'WSAF',\n",
       " u'ESAF',\n",
       " u'MDG',\n",
       " u'RAR',\n",
       " u'WSB',\n",
       " u'ESB',\n",
       " u'RFE',\n",
       " u'WCA',\n",
       " u'ECA',\n",
       " u'TIB',\n",
       " u'EAS',\n",
       " u'ARP',\n",
       " u'SAS',\n",
       " u'SEA',\n",
       " u'NAU',\n",
       " u'CAU',\n",
       " u'EAU',\n",
       " u'SAU',\n",
       " u'NZ',\n",
       " u'EAN',\n",
       " u'WAN']"
      ]
     },
     "execution_count": 13,
     "metadata": {},
     "output_type": "execute_result"
    }
   ],
   "source": [
    "ar6_land.abbrevs"
   ]
  },
  {
   "cell_type": "code",
   "execution_count": 14,
   "metadata": {},
   "outputs": [
    {
     "data": {
      "text/plain": [
       "[u'Greenland/Iceland',\n",
       " u'N.W.North-America',\n",
       " u'N.E.North-America',\n",
       " u'W.North-America',\n",
       " u'C.North-America',\n",
       " u'E.North-America',\n",
       " u'N.Central-America',\n",
       " u'S.Central-America',\n",
       " u'Caribbean',\n",
       " u'N.W.South-America',\n",
       " u'N.South-America',\n",
       " u'N.E.South-America',\n",
       " u'South-American-Monsoon',\n",
       " u'S.W.South-America',\n",
       " u'S.E.South-America',\n",
       " u'S.South-America',\n",
       " u'N.Europe',\n",
       " u'West&Central-Europe',\n",
       " u'E.Europe',\n",
       " u'Mediterranean',\n",
       " u'Sahara',\n",
       " u'Western-Africa',\n",
       " u'Central-Africa',\n",
       " u'N.Eastern-Africa',\n",
       " u'S.Eastern-Africa',\n",
       " u'W.Southern-Africa',\n",
       " u'E.Southern-Africa',\n",
       " u'Madagascar',\n",
       " u'Russian-Arctic',\n",
       " u'W.Siberia',\n",
       " u'E.Siberia',\n",
       " u'Russian-Far-East',\n",
       " u'W.C.Asia',\n",
       " u'E.C.Asia',\n",
       " u'Tibetan-Plateau',\n",
       " u'E.Asia',\n",
       " u'Arabian-Peninsula',\n",
       " u'S.Asia',\n",
       " u'S.E.Asia',\n",
       " u'N.Australia',\n",
       " u'C.Australia',\n",
       " u'E.Australia',\n",
       " u'S.Australia',\n",
       " u'New-Zealand',\n",
       " u'E.Antarctica',\n",
       " u'W.Antarctica']"
      ]
     },
     "execution_count": 14,
     "metadata": {},
     "output_type": "execute_result"
    }
   ],
   "source": [
    "ar6_land.names"
   ]
  },
  {
   "cell_type": "code",
   "execution_count": null,
   "metadata": {},
   "outputs": [],
   "source": [
    "Africa = [20,21,22,23,24,25,26,27,36,19]\n",
    "\n",
    "Europe = [16,17,19,18]\n",
    "\n",
    "# Asia \n",
    "# AustralAsia\n",
    "# North America\n",
    "# Central America\n",
    "# South America\n"
   ]
  },
  {
   "cell_type": "code",
   "execution_count": 15,
   "metadata": {},
   "outputs": [
    {
     "data": {
      "text/plain": [
       "3.25"
      ]
     },
     "execution_count": 15,
     "metadata": {},
     "output_type": "execute_result"
    }
   ],
   "source": [
    "39/12."
   ]
  },
  {
   "cell_type": "code",
   "execution_count": 17,
   "metadata": {},
   "outputs": [],
   "source": [
    "from shapely.geometry import Point\n",
    "from shapely.geometry.polygon import Polygon"
   ]
  },
  {
   "cell_type": "code",
   "execution_count": 20,
   "metadata": {},
   "outputs": [
    {
     "name": "stdout",
     "output_type": "stream",
     "text": [
      "True\n",
      "True\n"
     ]
    }
   ],
   "source": [
    "import numpy as np\n",
    "\n",
    "# Define vertices of polygon (lat/lon)\n",
    "v0 = [7.5, -2.5] \n",
    "v1 = [2, 3.5]\n",
    "v2 = [-2, 4]\n",
    "v3 = [-5.5, -4]\n",
    "v4 = [0, -10]\n",
    "lats_vect = np.array([v0[0],v1[0],v2[0],v3[0],v4[0]])\n",
    "lons_vect = np.array([v0[1],v1[1],v2[1],v3[1],v4[1]])\n",
    "\n",
    "# Point of interest P\n",
    "x, y = -6, 5 # x = Lat, y = Lon\n",
    "x, y = 0, 2 # x = Lat, y = Lon\n",
    "\n",
    "lons_lats_vect = np.column_stack((lons_vect, lats_vect)) # Reshape coordinates\n",
    "polygon = Polygon(lons_lats_vect) # create polygon\n",
    "point = Point(y,x) # create point\n",
    "print(polygon.contains(point)) # check if polygon contains point\n",
    "print(point.within(polygon)) # check if a point is in the polygon "
   ]
  },
  {
   "cell_type": "code",
   "execution_count": null,
   "metadata": {},
   "outputs": [],
   "source": [
    "# -- R"
   ]
  }
 ],
 "metadata": {
  "kernelspec": {
   "display_name": "Python 2",
   "language": "python",
   "name": "python2"
  },
  "language_info": {
   "codemirror_mode": {
    "name": "ipython",
    "version": 2
   },
   "file_extension": ".py",
   "mimetype": "text/x-python",
   "name": "python",
   "nbconvert_exporter": "python",
   "pygments_lexer": "ipython2",
   "version": "2.7.15"
  }
 },
 "nbformat": 4,
 "nbformat_minor": 2
}
