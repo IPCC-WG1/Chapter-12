{
 "cells": [
  {
   "cell_type": "code",
   "execution_count": 1,
   "metadata": {},
   "outputs": [
    {
     "name": "stderr",
     "output_type": "stream",
     "text": [
      "CliMAF version = 1.2.13\n"
     ]
    },
    {
     "name": "stdout",
     "output_type": "stream",
     "text": [
      "CliMAF install => /ciclad-home/jservon/Evaluation/CliMAF/climaf_installs/climaf_V1.2.13_post\n",
      "python => /modfs/modtools/miniconda2/envs/analyse_2.7/bin/python\n",
      "---\n",
      "Required softwares to run CliMAF => you are using the following versions/installations:\n",
      "ncl 6.6.2 => /modfs/modtools/miniconda2/envs/analyse_2.7/bin/ncl\n",
      "cdo 1.9.6 => /opt/nco/1.9/bin/cdo\n",
      "nco (ncks) 4.5.2 => /opt/nco-4.5.2/bin/ncks\n",
      "ncdump fichier => /modfs/modtools/miniconda2/envs/analyse_2.7/bin/ncdump\n",
      "Check stamping requirements\n",
      "nco (ncatted) found -> /opt/nco-4.5.2/bin/ncatted\n",
      "convert found -> /usr/bin/convert\n",
      "pdftk found -> /usr/bin/pdftk\n",
      "exiv2 found -> /ciclad-home/jservon/Evaluation/CliMAF/climaf_installs/climaf_V1.2.13_post/bin/exiv2\n",
      "---\n"
     ]
    },
    {
     "name": "stderr",
     "output_type": "stream",
     "text": [
      "Cache directory set to : /data/jservon/climafcache (use $CLIMAF_CACHE if set) \n",
      "Cache directory for remote data set to : /data/jservon/climafcache/remote_data (use $CLIMAF_REMOTE_CACHE if set) \n",
      "warning  : When defining temp_penalty : duplicate declaration for input #0\n",
      "warning  : When defining cquantile : duplicate declaration for input #0\n",
      "warning  : When defining cquantile : duplicate declaration for input #0\n",
      "Available macros read from ~/.climaf.macros are : []\n"
     ]
    }
   ],
   "source": [
    "from climaf.api import *"
   ]
  },
  {
   "cell_type": "code",
   "execution_count": null,
   "metadata": {},
   "outputs": [],
   "source": [
    "var_dict = dict(variable='mrso', table='Lmon')\n",
    "\n",
    "req = ds(project = 'CMIP6',\n",
    "         experiment = 'ssp585',\n",
    "         period = '2041-2060',\n",
    "         **var_dict\n",
    "        )\n",
    "\n",
    "#2041-2060 and 2081-2100 "
   ]
  }
 ],
 "metadata": {
  "kernelspec": {
   "display_name": "Python 2",
   "language": "python",
   "name": "python2"
  },
  "language_info": {
   "codemirror_mode": {
    "name": "ipython",
    "version": 2
   },
   "file_extension": ".py",
   "mimetype": "text/x-python",
   "name": "python",
   "nbconvert_exporter": "python",
   "pygments_lexer": "ipython2",
   "version": "2.7.15"
  }
 },
 "nbformat": 4,
 "nbformat_minor": 2
}
