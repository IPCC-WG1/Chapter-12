{
 "cells": [
  {
   "cell_type": "markdown",
   "metadata": {},
   "source": [
    "# Drawing the multipanel barplot for SWE Europe"
   ]
  },
  {
   "cell_type": "code",
   "execution_count": 1,
   "metadata": {},
   "outputs": [],
   "source": [
    "ensembles = c('CORDEX','CMIP5', 'CMIP6')\n",
    "GWLs = c('1.5','2','4')\n",
    "scenarios = c('modern', '2.6_mid', '8.5_mid', '2.6_late', '8.5_late')\n",
    "\n",
    "data = list()\n",
    "for (ensemble in ensembles){\n",
    "    data[[ensemble]] = list()\n",
    "    for (GWL in GWLs){\n",
    "        data[[ensemble]][[GWL]] = list()\n",
    "    }\n",
    "    for (scenario in scenarios){\n",
    "        data[[ensemble]][[scenario]] = list()\n",
    "    }\n",
    "\n",
    "}"
   ]
  },
  {
   "cell_type": "code",
   "execution_count": 2,
   "metadata": {},
   "outputs": [],
   "source": [
    "mask = 'mask14'"
   ]
  },
  {
   "cell_type": "markdown",
   "metadata": {},
   "source": [
    "## 1. Get the data from the json files"
   ]
  },
  {
   "cell_type": "code",
   "execution_count": 3,
   "metadata": {},
   "outputs": [
    {
     "name": "stderr",
     "output_type": "stream",
     "text": [
      "Warning message:\n",
      "“package ‘rjson’ was built under R version 3.6.3”\n"
     ]
    }
   ],
   "source": [
    "library(rjson)"
   ]
  },
  {
   "cell_type": "markdown",
   "metadata": {},
   "source": [
    "### Prepare R list with all the regions => Get the regions list from the CMIP6 json file, for GWL 1.5K"
   ]
  },
  {
   "cell_type": "code",
   "execution_count": 4,
   "metadata": {},
   "outputs": [],
   "source": [
    "# -- List of regions for AFRICA\n",
    "continent_regions = c('NEU','WCE','EEU','MED')\n",
    "\n",
    "all_regions = list()\n",
    "GWLs = c('1.5','2','4')\n",
    "scenarios = c('modern', '2.6_mid', '8.5_mid', '2.6_late', '8.5_late')\n",
    "\n",
    "for (region_name in continent_regions){\n",
    "    all_regions[[region_name]] = list()\n",
    "    for (ensemble in c('CMIP6','CMIP5','CORDEX')){\n",
    "        all_regions[[region_name]][[ensemble]] = list()\n",
    "        for (GWL in GWLs){\n",
    "            all_regions[[region_name]][[ensemble]][[GWL]] = list()\n",
    "        }#end for GWL\n",
    "        for (scenario in scenarios){\n",
    "            all_regions[[region_name]][[ensemble]][[scenario]] = list()\n",
    "        }#end for scenario\n",
    "    }#end for ensemble\n",
    "}#end for region_name\n"
   ]
  },
  {
   "cell_type": "markdown",
   "metadata": {},
   "source": [
    "### Read in CMIP6 data"
   ]
  },
  {
   "cell_type": "code",
   "execution_count": 5,
   "metadata": {},
   "outputs": [
    {
     "name": "stderr",
     "output_type": "stream",
     "text": [
      "Warning message in readLines(json_file):\n",
      "“ligne finale incomplète trouvée dans '/home/jservon/Chapter12_IPCC/data/snw/CMIP6_EUR-11_snw_mask14_AR6_regional_averages.json'”\n"
     ]
    }
   ],
   "source": [
    "clim_periods = c('modern', '2.6_mid', '8.5_mid', '2.6_late', '8.5_late', '1.5','2','4')\n",
    "\n",
    "ensemble = 'CMIP6'\n",
    "json_file = paste('/home/jservon/Chapter12_IPCC/data/snw/',ensemble,'_EUR-11_snw_',mask,'_AR6_regional_averages.json',sep='')\n",
    "json_data <- fromJSON(paste(readLines(json_file), collapse=\"\"))\n",
    "\n",
    "for (clim_period in names(json_data)){\n",
    "    if (clim_period=='85_1995_2014'){ wclim_period='modern' }\n",
    "    if (clim_period=='85_2041_2060'){ wclim_period='8.5_mid' }\n",
    "    if (clim_period=='85_2081_2099'){ wclim_period='8.5_late' }\n",
    "    if (clim_period=='26_2041_2060'){ wclim_period='2.6_mid' }\n",
    "    if (clim_period=='26_2081_2099'){ wclim_period='2.6_late' }\n",
    "    if (clim_period=='1.5'){ wclim_period='1.5' }\n",
    "    if (clim_period=='2'){ wclim_period='2' }\n",
    "    if (clim_period=='3'){ wclim_period='3' }\n",
    "    if (clim_period=='4'){ wclim_period='4' }\n",
    "    for (region_name in names(json_data[[clim_period]])){\n",
    "        if (json_data[[clim_period]][[region_name]][1] == -99999){\n",
    "            vals = c(NA,NA,NA)\n",
    "        }else{\n",
    "            vals = json_data[[clim_period]][[region_name]]\n",
    "        }\n",
    "        all_regions[[region_name]][[ensemble]][[wclim_period]][['vals']] = vals\n",
    "    }\n",
    "}"
   ]
  },
  {
   "cell_type": "markdown",
   "metadata": {},
   "source": [
    "### Read in CMIP5 data"
   ]
  },
  {
   "cell_type": "code",
   "execution_count": 6,
   "metadata": {},
   "outputs": [
    {
     "name": "stderr",
     "output_type": "stream",
     "text": [
      "Warning message in readLines(json_file):\n",
      "“ligne finale incomplète trouvée dans '/home/jservon/Chapter12_IPCC/data/snw/CMIP5_EUR-11_snw_mask14_AR6_regional_averages.json'”\n"
     ]
    }
   ],
   "source": [
    "clim_periods = c('modern', '2.6_mid', '8.5_mid', '2.6_late', '8.5_late', '1.5','2','4')\n",
    "\n",
    "ensemble = 'CMIP5'\n",
    "json_file = paste('/home/jservon/Chapter12_IPCC/data/snw/',ensemble,'_EUR-11_snw_',mask,'_AR6_regional_averages.json',sep='')\n",
    "json_data <- fromJSON(paste(readLines(json_file), collapse=\"\"))\n",
    "\n",
    "for (clim_period in names(json_data)){\n",
    "    if (clim_period=='85_1995_2014'){ wclim_period='modern' }\n",
    "    if (clim_period=='85_2041_2060'){ wclim_period='8.5_mid' }\n",
    "    if (clim_period=='85_2081_2099'){ wclim_period='8.5_late' }\n",
    "    if (clim_period=='26_2041_2060'){ wclim_period='2.6_mid' }\n",
    "    if (clim_period=='26_2081_2099'){ wclim_period='2.6_late' }\n",
    "    if (clim_period=='1.5'){ wclim_period='1.5' }\n",
    "    if (clim_period=='2'){ wclim_period='2' }\n",
    "    if (clim_period=='3'){ wclim_period='3' }\n",
    "    if (clim_period=='4'){ wclim_period='4' }\n",
    "    for (region_name in names(json_data[[clim_period]])){\n",
    "        if (json_data[[clim_period]][[region_name]][1] == -99999){\n",
    "            vals = c(NA,NA,NA)\n",
    "        }else{\n",
    "            vals = json_data[[clim_period]][[region_name]]\n",
    "        }\n",
    "        all_regions[[region_name]][[ensemble]][[wclim_period]][['vals']] = vals\n",
    "    }\n",
    "}"
   ]
  },
  {
   "cell_type": "code",
   "execution_count": 7,
   "metadata": {},
   "outputs": [
    {
     "data": {
      "text/html": [
       "<style>\n",
       ".list-inline {list-style: none; margin:0; padding: 0}\n",
       ".list-inline>li {display: inline-block}\n",
       ".list-inline>li:not(:last-child)::after {content: \"\\00b7\"; padding: 0 .5ex}\n",
       "</style>\n",
       "<ol class=list-inline><li>37.0872459411621</li><li>55.5450820922852</li><li>84.6478729248047</li></ol>\n"
      ],
      "text/latex": [
       "\\begin{enumerate*}\n",
       "\\item 37.0872459411621\n",
       "\\item 55.5450820922852\n",
       "\\item 84.6478729248047\n",
       "\\end{enumerate*}\n"
      ],
      "text/markdown": [
       "1. 37.0872459411621\n",
       "2. 55.5450820922852\n",
       "3. 84.6478729248047\n",
       "\n",
       "\n"
      ],
      "text/plain": [
       "[1] 37.08725 55.54508 84.64787"
      ]
     },
     "metadata": {},
     "output_type": "display_data"
    }
   ],
   "source": [
    "all_regions[['NEU']][['CMIP5']][['modern']][['vals']]\n"
   ]
  },
  {
   "cell_type": "markdown",
   "metadata": {},
   "source": [
    "### Read in CORDEX data"
   ]
  },
  {
   "cell_type": "code",
   "execution_count": 8,
   "metadata": {},
   "outputs": [
    {
     "name": "stderr",
     "output_type": "stream",
     "text": [
      "Warning message in readLines(json_file):\n",
      "“ligne finale incomplète trouvée dans '/home/jservon/Chapter12_IPCC/data/Figure_12.9/EURO-CORDEX_SWE_mask14_AR6_regional_averages.json'”\n"
     ]
    }
   ],
   "source": [
    "ensemble = 'CORDEX'\n",
    "json_file = paste('/home/jservon/Chapter12_IPCC/data/Figure_12.9/EURO-',ensemble,'_SWE_mask14_AR6_regional_averages.json',sep='')\n",
    "json_data <- fromJSON(paste(readLines(json_file), collapse=\"\"))\n",
    "\n",
    "for (clim_period in names(json_data)){\n",
    "    if (clim_period=='RCP85_ref'){ wclim_period='modern' }\n",
    "    if (clim_period=='RCP85_mce'){ wclim_period='8.5_mid' }\n",
    "    if (clim_period=='RCP85_ece'){ wclim_period='8.5_late' }\n",
    "    if (clim_period=='RCP26_mce'){ wclim_period='2.6_mid' }\n",
    "    if (clim_period=='RCP26_ece'){ wclim_period='2.6_late' }\n",
    "    if (clim_period=='15'){ wclim_period='1.5' }\n",
    "    if (clim_period=='2'){ wclim_period='2' }\n",
    "    if (clim_period=='3'){ wclim_period='3' }\n",
    "    if (clim_period=='4'){ wclim_period='4' }\n",
    "    for (region_name in names(json_data[[clim_period]])){\n",
    "        if (json_data[[clim_period]][[region_name]][1] == -99999){\n",
    "            vals = c(NA,NA,NA)\n",
    "        }else{\n",
    "            all_regions[[region_name]][[ensemble]][[wclim_period]][['vals']] = json_data[[clim_period]][[region_name]]\n",
    "        }\n",
    "    }\n",
    "}"
   ]
  },
  {
   "cell_type": "markdown",
   "metadata": {},
   "source": [
    "## Attribute the colors"
   ]
  },
  {
   "cell_type": "code",
   "execution_count": 9,
   "metadata": {},
   "outputs": [],
   "source": [
    "for (region_name in continent_regions){\n",
    "    ensemble = 'CMIP6'\n",
    "    all_regions[[region_name]][[ensemble]][['modern']][['color']] = 'black'\n",
    "    all_regions[[region_name]][[ensemble]][['2.6_mid']][['color']] = 'dodgerblue4'\n",
    "    all_regions[[region_name]][[ensemble]][['8.5_mid']][['color']] = 'red'\n",
    "    all_regions[[region_name]][[ensemble]][['2.6_late']][['color']] = 'dodgerblue4'\n",
    "    all_regions[[region_name]][[ensemble]][['8.5_late']][['color']] = 'red'\n",
    "    all_regions[[region_name]][[ensemble]][['1.5']][['color']] = 'darkorchid4'\n",
    "    all_regions[[region_name]][[ensemble]][['2']][['color']] = 'darkorange'\n",
    "    all_regions[[region_name]][[ensemble]][['4']][['color']] = 'tan4'\n",
    "\n",
    "    ensemble = 'CMIP5'\n",
    "    all_regions[[region_name]][[ensemble]][['modern']][['color']] = 'grey40'\n",
    "    all_regions[[region_name]][[ensemble]][['2.6_mid']][['color']] = 'dodgerblue3'\n",
    "    all_regions[[region_name]][[ensemble]][['8.5_mid']][['color']] = 'lightcoral'\n",
    "    all_regions[[region_name]][[ensemble]][['2.6_late']][['color']] = 'dodgerblue3'\n",
    "    all_regions[[region_name]][[ensemble]][['8.5_late']][['color']] = 'lightcoral'\n",
    "    all_regions[[region_name]][[ensemble]][['1.5']][['color']] = 'darkorchid3'\n",
    "    all_regions[[region_name]][[ensemble]][['2']][['color']] = 'sandybrown'\n",
    "    all_regions[[region_name]][[ensemble]][['4']][['color']] = 'peachpuff4'\n",
    "\n",
    "    ensemble = 'CORDEX'\n",
    "    all_regions[[region_name]][[ensemble]][['modern']][['color']] = 'grey60'\n",
    "    all_regions[[region_name]][[ensemble]][['2.6_mid']][['color']] = 'dodgerblue'\n",
    "    all_regions[[region_name]][[ensemble]][['8.5_mid']][['color']] = 'lightpink'\n",
    "    all_regions[[region_name]][[ensemble]][['2.6_late']][['color']] = 'dodgerblue'\n",
    "    all_regions[[region_name]][[ensemble]][['8.5_late']][['color']] = 'lightpink'\n",
    "    all_regions[[region_name]][[ensemble]][['1.5']][['color']] = 'mediumpurple1'\n",
    "    all_regions[[region_name]][[ensemble]][['2']][['color']] = 'navajowhite2'\n",
    "    all_regions[[region_name]][[ensemble]][['4']][['color']] = 'peachpuff3'\n",
    "}#end for region_name"
   ]
  },
  {
   "cell_type": "markdown",
   "metadata": {},
   "source": [
    "### Function to draw a horizontal legend"
   ]
  },
  {
   "cell_type": "code",
   "execution_count": 10,
   "metadata": {},
   "outputs": [],
   "source": [
    "\"draw_legend_box_hor\"=function(data, mar=c(1,0,1,0)){\n",
    "\n",
    "    par(mar=mar)\n",
    "    plot(0:1,0:1,col='white',xaxt='n',yaxt='n', xlab='', ylab='')#, bty='n')\n",
    "    text(-0.02,0.9, \"Legend\", font=2, cex=2, adj=0)\n",
    "    linewidth = 0.07\n",
    "    lwd=13\n",
    "\n",
    "    xcol1 = 0.2\n",
    "    ycol1 = 0.5\n",
    "    space_between_cols = linewidth*1.5\n",
    "    space_between_lines = 0.2\n",
    "    ycol = ycol1\n",
    "    xensemble = xcol1 - 0.05\n",
    "    xensemble = xcol1 - 0.05\n",
    "    cex_text = 1.7\n",
    "    cex_title = 1.9\n",
    "    for (ensemble in c('CMIP6','CMIP5','CORDEX')){\n",
    "        xcol = xcol1\n",
    "        text(xensemble, ycol, ensemble, font=2, cex=cex_text, adj=1)\n",
    "        for (GWL in c('1.5','2','4')){\n",
    "            lines(c(xcol,xcol+linewidth), c(ycol, ycol), type='l', lwd=lwd, col=data[[ensemble]][[GWL]][['color']])\n",
    "            if (ensemble=='CMIP6'){\n",
    "                if (GWL=='1.5'){ tmplab = expression('+1.5'*degree*C) }\n",
    "                if (GWL=='2'){ tmplab = expression('+2'*degree*C) }\n",
    "                if (GWL=='4'){ tmplab = expression('+4'*degree*C) }\n",
    "                text(mean(c(xcol,xcol+linewidth)), ycol1+space_between_lines, tmplab, font=2, cex=cex_text)\n",
    "                if (GWL=='1.5'){\n",
    "                    #text(mean(c(xcol,xcol+linewidth)), ycol1+0.1, 'GWL', font=2, cex=1.5)\n",
    "                    text(xcol, ycol1+space_between_lines*2, 'GWL', font=2, cex=cex_title, adj=0)\n",
    "                }\n",
    "            }\n",
    "            xcol = xcol + space_between_cols\n",
    "        }\n",
    "        ycol = ycol - space_between_lines\n",
    "    }\n",
    "\n",
    "    #xcol1 = 0.45\n",
    "    xcol1 = 0.55\n",
    "    #space_between_cols = linewidth*1.6\n",
    "    ycol = ycol1\n",
    "    xensemble = xcol1 - 0.05\n",
    "    xensemble = xcol1 - 0.05\n",
    "    for (ensemble in c('CMIP6','CMIP5','CORDEX')){\n",
    "        xcol = xcol1\n",
    "        #text(xensemble, ycol, ensemble, font=2, cex=cex_text, adj=1)\n",
    "        for (time_slice in c('modern','2.6_late','8.5_late')){\n",
    "            if (time_slice=='modern'){ tmplab = 'r.past' }\n",
    "            if (time_slice=='2.6_late'){ tmplab = '2.6' }\n",
    "            if (time_slice=='8.5_late'){ tmplab = '8.5' }\n",
    "            lines(c(xcol,xcol+linewidth), c(ycol, ycol), type='l', lwd=lwd, col=data[[ensemble]][[time_slice]][['color']])\n",
    "            if (ensemble=='CMIP6'){\n",
    "                text(mean(c(xcol,xcol+linewidth)), ycol1+space_between_lines, tmplab, font=2, cex=cex_text)\n",
    "            }\n",
    "            if (time_slice=='modern'){\n",
    "                #text(mean(c(xcol,xcol+linewidth)), ycol1+0.1, 'GWL', font=2, cex=1.5)\n",
    "                text(xcol, ycol1+space_between_lines*2, 'RCPs/SSPs', font=2, cex=cex_title, adj=0)\n",
    "            }\n",
    "            xcol = xcol + space_between_cols\n",
    "        }\n",
    "        ycol = ycol - space_between_lines\n",
    "    }\n",
    "        ycol = ycol - space_between_lines\n",
    "    \n",
    "    yline = 0.5\n",
    "    ypos = 0.45\n",
    "    ylen = 0.3\n",
    "    #xx = 0.75\n",
    "    xx = 0.9\n",
    "    lines(c(xx,xx),c(ypos-ylen,ypos+ylen), type='l', lwd=lwd/2, col='black')\n",
    "    points(xx,ypos, pch=16, cex=2.2)\n",
    "    text(xx+0.02,ypos+(ylen*1.1), \"P90\", font=1, cex=cex_text,adj=0)\n",
    "    text(xx+0.02,ypos-(ylen*1.1), \"P10\", font=1, cex=cex_text,adj=0)\n",
    "    text(xx+0.02,ypos, \"median\", font=1, cex=cex_text, adj=0)\n",
    "    \n",
    "}\n",
    "#draw_legend_box_vert(data)"
   ]
  },
  {
   "cell_type": "markdown",
   "metadata": {},
   "source": [
    "### Function to draw the barplot"
   ]
  },
  {
   "cell_type": "code",
   "execution_count": 11,
   "metadata": {},
   "outputs": [],
   "source": [
    "\"barplot_satellite_chap12\"=function(data, title, ylabel, do_ylab='TRUE', do_xlab='TRUE', mar=c(4,3,2.5,1)){\n",
    "    #\n",
    "    # -- Names\n",
    "    ensembles = c('CORDEX','CMIP5','CMIP6')\n",
    "    GWLs = c('1.5','2','4')\n",
    "    scenarios = c('modern', '2.6_mid', '8.5_mid', '2.6_late', '8.5_late')\n",
    "    nhorizons = length(GWLs)+length(scenarios)\n",
    "        \n",
    "    ylim = c(0,100)\n",
    "    \n",
    "    # -- position on the x axis of the ensembles\n",
    "    xpos = c(1,2,3, 4.5, 6, 7, 8, 9)\n",
    "    xvert = c(1.5,2.5,3.5,5.5,7.5)\n",
    "    inner_margin = 0.5\n",
    "    xlim = c(1-inner_margin, max(xpos)+inner_margin)\n",
    "    general_cex=1.3\n",
    "    par(cex=general_cex+0.3)\n",
    "    par(mar=mar)\n",
    "    plot(1:nhorizons, rep(NA, nhorizons), col='white', ylim=ylim, xlim=xlim,\n",
    "         xaxt='n', yaxt='n', xlab='', ylab='', xaxs=\"i\", yaxs='i', font=2)#\n",
    "    par(cex=general_cex)\n",
    "    mtext(ylabel, 2, font=2, line=2.2, cex=general_cex)\n",
    "    par(xpd=NA)\n",
    "    par(font=2)\n",
    "    \n",
    "    for (yval in seq(0,100,by=20)){\n",
    "        lines(xlim,rep(yval,2),type='l', lty=2)\n",
    "    }\n",
    "\n",
    "    delta = 0.22 # - space between CMIP6/CMIP5/CORDEX\n",
    "    # -- Plot data\n",
    "    i = 1\n",
    "    for (horizon in c(GWLs, scenarios)){\n",
    "        j = xpos[i] - delta\n",
    "        for (ensemble in ensembles){\n",
    "            print(paste(horizon, ensemble))\n",
    "            dat = data[[ensemble]][[horizon]][['vals']]\n",
    "            if (is.null(dat)){dat = c(NA,NA,NA)}\n",
    "            col = data[[ensemble]][[horizon]][['color']]\n",
    "            lines(rep(j,2), c(dat[1],dat[3]), type='l', col=col, lwd=4)\n",
    "            points(j, dat[2], cex=1.5, pch=16, col=col)\n",
    "            j = j + delta\n",
    "        }\n",
    "        i = i + 1\n",
    "    }\n",
    "    \n",
    "    # -- Y axis\n",
    "    par(cex=2.5)\n",
    "    yvals = seq(0,100, by=20)\n",
    "    ylabels = yvals\n",
    "    dumyvals = yvals\n",
    "    if (do_ylab=='TRUE'){\n",
    "        par(cex=2.6)\n",
    "        axis(2, at=dumyvals, labels=ylabels, las=1)\n",
    "        par(cex=general_cex)\n",
    "    }else{\n",
    "        axis(2, at=dumyvals, labels=FALSE)#labels=rep(NA,length(dumyvals)))\n",
    "    }\n",
    "    par(cex=general_cex)\n",
    "    \n",
    "    \n",
    "    # -- X axis\n",
    "    if (do_xlab=='FALSE'){\n",
    "        axis(1, at=xvert, labels=rep('',length(xvert)))\n",
    "    }\n",
    "    # -- Title\n",
    "    mtext(title,3, font=2, cex=3, line=0.5)\n",
    "    \n",
    "    # -- Vertical lines    \n",
    "    vline = ylim\n",
    "    vline[1] = ylim[1] - (ylim[2]-ylim[1])*0.25\n",
    "    if (do_xlab=='TRUE'){\n",
    "        for (v in xvert){lines(c(v,v),vline,type='l', lwd=1)}\n",
    "    }else{\n",
    "        for (v in xvert){lines(c(v,v),ylim,type='l')}\n",
    "    }\n",
    "\n",
    "    if (do_xlab=='TRUE'){\n",
    "        cex_text = 1.8\n",
    "        bline = ylim[1] - 0.3*(ylim[2]-ylim[1])\n",
    "        #\n",
    "        # -- Labels GWLs\n",
    "        GWLs_range = c(0.5,3.2)\n",
    "        btext = ylim[1] - 0.5*(ylim[2]-ylim[1])\n",
    "        lines(c(0.5,3.2), c(bline,bline), type='l', lwd=3)\n",
    "        text(mean(GWLs_range),btext,expression(\"GWL\"), font=1, adj=c(0.5,0), cex=cex_text*0.9)\n",
    "\n",
    "        btext2 = ylim[1] - 0.15*(ylim[2]-ylim[1])\n",
    "        adj_ts = c(0.5,0.5)\n",
    "        adj_gwl = c(0.5,0.5)\n",
    "        text(0.8,btext2,\"1.5\", cex=cex_text, font=1, adj=adj_gwl)\n",
    "        text(2,btext2,\"2\", cex=cex_text, font=1, adj=adj_gwl)\n",
    "        text(3,btext2,\"4\", cex=cex_text, font=1, adj=adj_gwl)\n",
    "\n",
    "        # -- Labels time slices = modern, mid-term, long-term\n",
    "        xmodern = 4.5\n",
    "        xmid = 6.5\n",
    "        xlate = 8.5\n",
    "        text(xmodern,btext2, \"r.past\", font=1, cex=cex_text, adj=adj_ts)#, srt=90\n",
    "        text(xmid,btext2, \"mid.\", font=1, cex=cex_text, adj=adj_ts)\n",
    "        text(xlate,btext2, \"long.\", font=1, cex=cex_text, adj=adj_ts)\n",
    "\n",
    "        time_slices = c(3.6,9.3)\n",
    "        lines(time_slices, c(bline,bline), type='l', lwd=3)\n",
    "        text(mean(time_slices),btext,\"Time slices\", font=1, adj=c(0.5,0), cex=cex_text*0.9)\n",
    "    }#end if do_ylab\n",
    "\n",
    "}"
   ]
  },
  {
   "cell_type": "code",
   "execution_count": 12,
   "metadata": {
    "scrolled": true
   },
   "outputs": [
    {
     "name": "stdout",
     "output_type": "stream",
     "text": [
      "[1] \"1.5 CORDEX\"\n",
      "[1] \"1.5 CMIP5\"\n",
      "[1] \"1.5 CMIP6\"\n",
      "[1] \"2 CORDEX\"\n",
      "[1] \"2 CMIP5\"\n",
      "[1] \"2 CMIP6\"\n",
      "[1] \"4 CORDEX\"\n",
      "[1] \"4 CMIP5\"\n",
      "[1] \"4 CMIP6\"\n",
      "[1] \"modern CORDEX\"\n",
      "[1] \"modern CMIP5\"\n",
      "[1] \"modern CMIP6\"\n",
      "[1] \"2.6_mid CORDEX\"\n",
      "[1] \"2.6_mid CMIP5\"\n",
      "[1] \"2.6_mid CMIP6\"\n",
      "[1] \"8.5_mid CORDEX\"\n",
      "[1] \"8.5_mid CMIP5\"\n",
      "[1] \"8.5_mid CMIP6\"\n",
      "[1] \"2.6_late CORDEX\"\n",
      "[1] \"2.6_late CMIP5\"\n",
      "[1] \"2.6_late CMIP6\"\n",
      "[1] \"8.5_late CORDEX\"\n",
      "[1] \"8.5_late CMIP5\"\n",
      "[1] \"8.5_late CMIP6\"\n",
      "[1] \"1.5 CORDEX\"\n",
      "[1] \"1.5 CMIP5\"\n",
      "[1] \"1.5 CMIP6\"\n",
      "[1] \"2 CORDEX\"\n",
      "[1] \"2 CMIP5\"\n",
      "[1] \"2 CMIP6\"\n",
      "[1] \"4 CORDEX\"\n",
      "[1] \"4 CMIP5\"\n",
      "[1] \"4 CMIP6\"\n",
      "[1] \"modern CORDEX\"\n",
      "[1] \"modern CMIP5\"\n",
      "[1] \"modern CMIP6\"\n",
      "[1] \"2.6_mid CORDEX\"\n",
      "[1] \"2.6_mid CMIP5\"\n",
      "[1] \"2.6_mid CMIP6\"\n",
      "[1] \"8.5_mid CORDEX\"\n",
      "[1] \"8.5_mid CMIP5\"\n",
      "[1] \"8.5_mid CMIP6\"\n",
      "[1] \"2.6_late CORDEX\"\n",
      "[1] \"2.6_late CMIP5\"\n",
      "[1] \"2.6_late CMIP6\"\n",
      "[1] \"8.5_late CORDEX\"\n",
      "[1] \"8.5_late CMIP5\"\n",
      "[1] \"8.5_late CMIP6\"\n",
      "[1] \"1.5 CORDEX\"\n",
      "[1] \"1.5 CMIP5\"\n",
      "[1] \"1.5 CMIP6\"\n",
      "[1] \"2 CORDEX\"\n",
      "[1] \"2 CMIP5\"\n",
      "[1] \"2 CMIP6\"\n",
      "[1] \"4 CORDEX\"\n",
      "[1] \"4 CMIP5\"\n",
      "[1] \"4 CMIP6\"\n",
      "[1] \"modern CORDEX\"\n",
      "[1] \"modern CMIP5\"\n",
      "[1] \"modern CMIP6\"\n",
      "[1] \"2.6_mid CORDEX\"\n",
      "[1] \"2.6_mid CMIP5\"\n",
      "[1] \"2.6_mid CMIP6\"\n",
      "[1] \"8.5_mid CORDEX\"\n",
      "[1] \"8.5_mid CMIP5\"\n",
      "[1] \"8.5_mid CMIP6\"\n",
      "[1] \"2.6_late CORDEX\"\n",
      "[1] \"2.6_late CMIP5\"\n",
      "[1] \"2.6_late CMIP6\"\n",
      "[1] \"8.5_late CORDEX\"\n",
      "[1] \"8.5_late CMIP5\"\n",
      "[1] \"8.5_late CMIP6\"\n",
      "[1] \"1.5 CORDEX\"\n",
      "[1] \"1.5 CMIP5\"\n",
      "[1] \"1.5 CMIP6\"\n",
      "[1] \"2 CORDEX\"\n",
      "[1] \"2 CMIP5\"\n",
      "[1] \"2 CMIP6\"\n",
      "[1] \"4 CORDEX\"\n",
      "[1] \"4 CMIP5\"\n",
      "[1] \"4 CMIP6\"\n",
      "[1] \"modern CORDEX\"\n",
      "[1] \"modern CMIP5\"\n",
      "[1] \"modern CMIP6\"\n",
      "[1] \"2.6_mid CORDEX\"\n",
      "[1] \"2.6_mid CMIP5\"\n",
      "[1] \"2.6_mid CMIP6\"\n",
      "[1] \"8.5_mid CORDEX\"\n",
      "[1] \"8.5_mid CMIP5\"\n",
      "[1] \"8.5_mid CMIP6\"\n",
      "[1] \"2.6_late CORDEX\"\n",
      "[1] \"2.6_late CMIP5\"\n",
      "[1] \"2.6_late CMIP6\"\n",
      "[1] \"8.5_late CORDEX\"\n",
      "[1] \"8.5_late CMIP5\"\n",
      "[1] \"8.5_late CMIP6\"\n"
     ]
    },
    {
     "data": {
      "text/html": [
       "<strong>png:</strong> 2"
      ],
      "text/latex": [
       "\\textbf{png:} 2"
      ],
      "text/markdown": [
       "**png:** 2"
      ],
      "text/plain": [
       "png \n",
       "  2 "
      ]
     },
     "metadata": {},
     "output_type": "display_data"
    }
   ],
   "source": [
    "region = 'EUROPE'\n",
    "\n",
    "figname = paste('/home/jservon/Chapter12_IPCC/figs/Figure_12.9/panel_d_',region,'_SWE_',mask,'_boxplot.png',sep='')\n",
    "#png(figname, width=600,height=700)\n",
    "png(figname, width=900,height=650)\n",
    "mat=rbind(\n",
    "c(1,2),\n",
    "c(3,4)\n",
    ")\n",
    "\n",
    "continent_regions = c('NEU','EEU','WCE','MED')\n",
    "\n",
    "layout(mat, heights=c(1,1.35), widths=c(1.2,1))\n",
    "i = 1\n",
    "for (subregion in continent_regions){\n",
    "    \n",
    "    mar = c(1,1,2.5,1)\n",
    "    if (subregion %in% c('NEU','WCE')){\n",
    "        do_ylab='TRUE'\n",
    "        mar[2]=4\n",
    "    }else{\n",
    "        do_ylab='FALSE'\n",
    "    }#\n",
    "    if (subregion %in% c('WCE','MED')){\n",
    "        do_xlab='TRUE'\n",
    "        mar[1] =5.5 # -- bottom margin\n",
    "    }else{\n",
    "        do_xlab='FALSE'\n",
    "    }#\n",
    "\n",
    "    plot_title = subregion\n",
    "    ylab = ''\n",
    "    barplot_satellite_chap12(all_regions[[subregion]],plot_title, ylab, mar=mar, do_ylab=do_ylab, do_xlab=do_xlab)\n",
    "    \n",
    "    i = i + 1\n",
    "}\n",
    "dev.off()"
   ]
  },
  {
   "cell_type": "code",
   "execution_count": 13,
   "metadata": {
    "scrolled": false
   },
   "outputs": [
    {
     "name": "stderr",
     "output_type": "stream",
     "text": [
      "Warning message:\n",
      "“package ‘IRdisplay’ was built under R version 3.6.3”\n"
     ]
    },
    {
     "data": {
      "image/png": "[encoded data removed]"
     },
     "metadata": {},
     "output_type": "display_data"
    }
   ],
   "source": [
    "library(\"IRdisplay\")\n",
    "display_png(file=figname) "
   ]
  },
  {
   "cell_type": "markdown",
   "metadata": {},
   "source": [
    "## PDF"
   ]
  },
  {
   "cell_type": "code",
   "execution_count": 14,
   "metadata": {},
   "outputs": [
    {
     "name": "stdout",
     "output_type": "stream",
     "text": [
      "[1] \"1.5 CORDEX\"\n",
      "[1] \"1.5 CMIP5\"\n",
      "[1] \"1.5 CMIP6\"\n",
      "[1] \"2 CORDEX\"\n",
      "[1] \"2 CMIP5\"\n",
      "[1] \"2 CMIP6\"\n",
      "[1] \"4 CORDEX\"\n",
      "[1] \"4 CMIP5\"\n",
      "[1] \"4 CMIP6\"\n",
      "[1] \"modern CORDEX\"\n",
      "[1] \"modern CMIP5\"\n",
      "[1] \"modern CMIP6\"\n",
      "[1] \"2.6_mid CORDEX\"\n",
      "[1] \"2.6_mid CMIP5\"\n",
      "[1] \"2.6_mid CMIP6\"\n",
      "[1] \"8.5_mid CORDEX\"\n",
      "[1] \"8.5_mid CMIP5\"\n",
      "[1] \"8.5_mid CMIP6\"\n",
      "[1] \"2.6_late CORDEX\"\n",
      "[1] \"2.6_late CMIP5\"\n",
      "[1] \"2.6_late CMIP6\"\n",
      "[1] \"8.5_late CORDEX\"\n",
      "[1] \"8.5_late CMIP5\"\n",
      "[1] \"8.5_late CMIP6\"\n",
      "[1] \"1.5 CORDEX\"\n",
      "[1] \"1.5 CMIP5\"\n",
      "[1] \"1.5 CMIP6\"\n",
      "[1] \"2 CORDEX\"\n",
      "[1] \"2 CMIP5\"\n",
      "[1] \"2 CMIP6\"\n",
      "[1] \"4 CORDEX\"\n",
      "[1] \"4 CMIP5\"\n",
      "[1] \"4 CMIP6\"\n",
      "[1] \"modern CORDEX\"\n",
      "[1] \"modern CMIP5\"\n",
      "[1] \"modern CMIP6\"\n",
      "[1] \"2.6_mid CORDEX\"\n",
      "[1] \"2.6_mid CMIP5\"\n",
      "[1] \"2.6_mid CMIP6\"\n",
      "[1] \"8.5_mid CORDEX\"\n",
      "[1] \"8.5_mid CMIP5\"\n",
      "[1] \"8.5_mid CMIP6\"\n",
      "[1] \"2.6_late CORDEX\"\n",
      "[1] \"2.6_late CMIP5\"\n",
      "[1] \"2.6_late CMIP6\"\n",
      "[1] \"8.5_late CORDEX\"\n",
      "[1] \"8.5_late CMIP5\"\n",
      "[1] \"8.5_late CMIP6\"\n",
      "[1] \"1.5 CORDEX\"\n",
      "[1] \"1.5 CMIP5\"\n",
      "[1] \"1.5 CMIP6\"\n",
      "[1] \"2 CORDEX\"\n",
      "[1] \"2 CMIP5\"\n",
      "[1] \"2 CMIP6\"\n",
      "[1] \"4 CORDEX\"\n",
      "[1] \"4 CMIP5\"\n",
      "[1] \"4 CMIP6\"\n",
      "[1] \"modern CORDEX\"\n",
      "[1] \"modern CMIP5\"\n",
      "[1] \"modern CMIP6\"\n",
      "[1] \"2.6_mid CORDEX\"\n",
      "[1] \"2.6_mid CMIP5\"\n",
      "[1] \"2.6_mid CMIP6\"\n",
      "[1] \"8.5_mid CORDEX\"\n",
      "[1] \"8.5_mid CMIP5\"\n",
      "[1] \"8.5_mid CMIP6\"\n",
      "[1] \"2.6_late CORDEX\"\n",
      "[1] \"2.6_late CMIP5\"\n",
      "[1] \"2.6_late CMIP6\"\n",
      "[1] \"8.5_late CORDEX\"\n",
      "[1] \"8.5_late CMIP5\"\n",
      "[1] \"8.5_late CMIP6\"\n",
      "[1] \"1.5 CORDEX\"\n",
      "[1] \"1.5 CMIP5\"\n",
      "[1] \"1.5 CMIP6\"\n",
      "[1] \"2 CORDEX\"\n",
      "[1] \"2 CMIP5\"\n",
      "[1] \"2 CMIP6\"\n",
      "[1] \"4 CORDEX\"\n",
      "[1] \"4 CMIP5\"\n",
      "[1] \"4 CMIP6\"\n",
      "[1] \"modern CORDEX\"\n",
      "[1] \"modern CMIP5\"\n",
      "[1] \"modern CMIP6\"\n",
      "[1] \"2.6_mid CORDEX\"\n",
      "[1] \"2.6_mid CMIP5\"\n",
      "[1] \"2.6_mid CMIP6\"\n",
      "[1] \"8.5_mid CORDEX\"\n",
      "[1] \"8.5_mid CMIP5\"\n",
      "[1] \"8.5_mid CMIP6\"\n",
      "[1] \"2.6_late CORDEX\"\n",
      "[1] \"2.6_late CMIP5\"\n",
      "[1] \"2.6_late CMIP6\"\n",
      "[1] \"8.5_late CORDEX\"\n",
      "[1] \"8.5_late CMIP5\"\n",
      "[1] \"8.5_late CMIP6\"\n"
     ]
    },
    {
     "data": {
      "text/html": [
       "<strong>png:</strong> 2"
      ],
      "text/latex": [
       "\\textbf{png:} 2"
      ],
      "text/markdown": [
       "**png:** 2"
      ],
      "text/plain": [
       "png \n",
       "  2 "
      ]
     },
     "metadata": {},
     "output_type": "display_data"
    }
   ],
   "source": [
    "figname = paste('/home/jservon/Chapter12_IPCC/figs/Figure_12.9/panel_d_',region,'_SWE_',mask,'_boxplot.pdf',sep='')\n",
    "pdf(figname, width=9*1.4,height=6.5*1.4)\n",
    "mat=rbind(\n",
    "c(1,2),\n",
    "c(3,4)\n",
    ")\n",
    "\n",
    "continent_regions = c('NEU','EEU','WCE','MED')\n",
    "\n",
    "layout(mat, heights=c(1,1.35), widths=c(1.2,1))\n",
    "i = 1\n",
    "for (subregion in continent_regions){\n",
    "    \n",
    "    mar = c(1,1,2.5,1)\n",
    "    if (subregion %in% c('NEU','WCE')){\n",
    "        do_ylab='TRUE'\n",
    "        mar[2]=4\n",
    "    }else{\n",
    "        do_ylab='FALSE'\n",
    "    }#\n",
    "    if (subregion %in% c('WCE','MED')){\n",
    "        do_xlab='TRUE'\n",
    "        mar[1] =5.5 # -- bottom margin\n",
    "    }else{\n",
    "        do_xlab='FALSE'\n",
    "    }#\n",
    "\n",
    "    plot_title = subregion\n",
    "    ylab = ''\n",
    "    barplot_satellite_chap12(all_regions[[subregion]],plot_title, ylab, mar=mar, do_ylab=do_ylab, do_xlab=do_xlab)\n",
    "    \n",
    "    i = i + 1\n",
    "}\n",
    "dev.off()"
   ]
  },
  {
   "cell_type": "code",
   "execution_count": null,
   "metadata": {},
   "outputs": [],
   "source": []
  }
 ],
 "metadata": {
  "kernelspec": {
   "display_name": "R",
   "language": "R",
   "name": "ir"
  },
  "language_info": {
   "codemirror_mode": "r",
   "file_extension": ".r",
   "mimetype": "text/x-r-source",
   "name": "R",
   "pygments_lexer": "r",
   "version": "3.6.2"
  }
 },
 "nbformat": 4,
 "nbformat_minor": 2
}
