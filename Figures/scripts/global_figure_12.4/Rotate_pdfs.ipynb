{
 "cells": [
  {
   "cell_type": "code",
   "execution_count": null,
   "metadata": {},
   "outputs": [
    {
     "name": "stdout",
     "output_type": "stream",
     "text": [
      "/home/jservon/Chapter12_IPCC/figs/global_figure_12.4/panel_r_ESL_2100_RCP85-final.pdf\n",
      "/home/jservon/Chapter12_IPCC/figs/global_figure_12.4/panel_h_DF6_ssp585_midch_80perc-agreement.pdf\n",
      "pdf90 /home/jservon/Chapter12_IPCC/figs/global_figure_12.4/panel_h_DF6_ssp585_midch_80perc-agreement.pdf ; mv panel_h_DF6_ssp585_midch_80perc-agreement-rotated90.pdf /home/jservon/Chapter12_IPCC/figs/global_figure_12.4/panel_h_DF6_ssp585_midch_80perc-agreement-final.pdf\n",
      "/home/jservon/Chapter12_IPCC/figs/global_figure_12.4/panel_q_ESL_2050_RCP85-final.pdf\n",
      "/home/jservon/Chapter12_IPCC/figs/global_figure_12.4/panel_e_HI41_ssp585_2041-2060_80perc-agreement.pdf\n",
      "pdf90 /home/jservon/Chapter12_IPCC/figs/global_figure_12.4/panel_e_HI41_ssp585_2041-2060_80perc-agreement.pdf ; mv panel_e_HI41_ssp585_2041-2060_80perc-agreement-rotated90.pdf /home/jservon/Chapter12_IPCC/figs/global_figure_12.4/panel_e_HI41_ssp585_2041-2060_80perc-agreement-final.pdf\n",
      "/home/jservon/Chapter12_IPCC/figs/global_figure_12.4/test.pdf\n",
      "pdf90 /home/jservon/Chapter12_IPCC/figs/global_figure_12.4/test.pdf ; mv test-rotated90.pdf /home/jservon/Chapter12_IPCC/figs/global_figure_12.4/test-final.pdf\n",
      "/home/jservon/Chapter12_IPCC/figs/global_figure_12.4/panel_i_DF6_ssp585_farch_80perc-agreement.pdf\n",
      "pdf90 /home/jservon/Chapter12_IPCC/figs/global_figure_12.4/panel_i_DF6_ssp585_farch_80perc-agreement.pdf ; mv panel_i_DF6_ssp585_farch_80perc-agreement-rotated90.pdf /home/jservon/Chapter12_IPCC/figs/global_figure_12.4/panel_i_DF6_ssp585_farch_80perc-agreement-final.pdf\n",
      "/home/jservon/Chapter12_IPCC/figs/global_figure_12.4/panel_o_wind_perc-baseline_ssp585_2081-2100_80perc-agreement.pdf\n",
      "pdf90 /home/jservon/Chapter12_IPCC/figs/global_figure_12.4/panel_o_wind_perc-baseline_ssp585_2081-2100_80perc-agreement.pdf ; mv panel_o_wind_perc-baseline_ssp585_2081-2100_80perc-agreement-rotated90.pdf /home/jservon/Chapter12_IPCC/figs/global_figure_12.4/panel_o_wind_perc-baseline_ssp585_2081-2100_80perc-agreement-final.pdf\n",
      "/home/jservon/Chapter12_IPCC/figs/global_figure_12.4/panel_g_DF6_ssp126_farch_80perc-agreement.pdf\n",
      "pdf90 /home/jservon/Chapter12_IPCC/figs/global_figure_12.4/panel_g_DF6_ssp126_farch_80perc-agreement.pdf ; mv panel_g_DF6_ssp126_farch_80perc-agreement-rotated90.pdf /home/jservon/Chapter12_IPCC/figs/global_figure_12.4/panel_g_DF6_ssp126_farch_80perc-agreement-final.pdf\n",
      "/home/jservon/Chapter12_IPCC/figs/global_figure_12.4/panel_d_HI41_ssp126_2081-2100_80perc-agreement.pdf\n",
      "pdf90 /home/jservon/Chapter12_IPCC/figs/global_figure_12.4/panel_d_HI41_ssp126_2081-2100_80perc-agreement.pdf ; mv panel_d_HI41_ssp126_2081-2100_80perc-agreement-rotated90.pdf /home/jservon/Chapter12_IPCC/figs/global_figure_12.4/panel_d_HI41_ssp126_2081-2100_80perc-agreement-final.pdf\n",
      "/home/jservon/Chapter12_IPCC/figs/global_figure_12.4/panel_a_tx35_ssp126_2081-2100_80perc-agreement.pdf\n",
      "pdf90 /home/jservon/Chapter12_IPCC/figs/global_figure_12.4/panel_a_tx35_ssp126_2081-2100_80perc-agreement.pdf ; mv panel_a_tx35_ssp126_2081-2100_80perc-agreement-rotated90.pdf /home/jservon/Chapter12_IPCC/figs/global_figure_12.4/panel_a_tx35_ssp126_2081-2100_80perc-agreement-final.pdf\n",
      "/home/jservon/Chapter12_IPCC/figs/global_figure_12.4/panel_b_tx35_ssp585_2041-2060_80perc-agreement.pdf\n",
      "pdf90 /home/jservon/Chapter12_IPCC/figs/global_figure_12.4/panel_b_tx35_ssp585_2041-2060_80perc-agreement.pdf ; mv panel_b_tx35_ssp585_2041-2060_80perc-agreement-rotated90.pdf /home/jservon/Chapter12_IPCC/figs/global_figure_12.4/panel_b_tx35_ssp585_2041-2060_80perc-agreement-final.pdf\n"
     ]
    }
   ],
   "source": [
    "import os, glob\n",
    "\n",
    "lopdf = glob.glob('/home/jservon/Chapter12_IPCC/figs/global_figure_12.4/*.pdf')\n",
    "for wpdf in lopdf:\n",
    "    print wpdf\n",
    "    if 'rotated90' not in wpdf and '-final.pdf' not in wpdf:\n",
    "        rotated = wpdf.replace('.pdf','-rotated90.pdf')\n",
    "        finalname = rotated.replace('-rotated90.pdf','-final.pdf')\n",
    "        cmd = 'pdf90 '+wpdf+' ; mv '+os.path.basename(rotated)+' '+finalname\n",
    "        print cmd\n",
    "        os.system(cmd)"
   ]
  },
  {
   "cell_type": "code",
   "execution_count": null,
   "metadata": {},
   "outputs": [],
   "source": []
  }
 ],
 "metadata": {
  "kernelspec": {
   "display_name": "Python 2",
   "language": "python",
   "name": "python2"
  },
  "language_info": {
   "codemirror_mode": {
    "name": "ipython",
    "version": 2
   },
   "file_extension": ".py",
   "mimetype": "text/x-python",
   "name": "python",
   "nbconvert_exporter": "python",
   "pygments_lexer": "ipython2",
   "version": "2.7.15"
  }
 },
 "nbformat": 4,
 "nbformat_minor": 2
}
