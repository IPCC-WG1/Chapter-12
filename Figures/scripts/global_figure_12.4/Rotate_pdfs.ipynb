{
 "cells": [
  {
   "cell_type": "code",
   "execution_count": 2,
   "metadata": {},
   "outputs": [
    {
     "name": "stdout",
     "output_type": "stream",
     "text": [
      "/home/jservon/Chapter12_IPCC/WG1_github/Chapter-12/Figures/figs/global_figure_12.4/panel_a_tx35_ssp126_2081-2100_80perc-agreement.pdf\n",
      "pdf90 /home/jservon/Chapter12_IPCC/WG1_github/Chapter-12/Figures/figs/global_figure_12.4/panel_a_tx35_ssp126_2081-2100_80perc-agreement.pdf ; mv panel_a_tx35_ssp126_2081-2100_80perc-agreement-rotated90.pdf /home/jservon/Chapter12_IPCC/WG1_github/Chapter-12/Figures/figs/global_figure_12.4/panel_a_tx35_ssp126_2081-2100_80perc-agreement-final.pdf\n",
      "/home/jservon/Chapter12_IPCC/WG1_github/Chapter-12/Figures/figs/global_figure_12.4/panel_b_tx35_ssp585_2041-2060_80perc-agreement.pdf\n",
      "pdf90 /home/jservon/Chapter12_IPCC/WG1_github/Chapter-12/Figures/figs/global_figure_12.4/panel_b_tx35_ssp585_2041-2060_80perc-agreement.pdf ; mv panel_b_tx35_ssp585_2041-2060_80perc-agreement-rotated90.pdf /home/jservon/Chapter12_IPCC/WG1_github/Chapter-12/Figures/figs/global_figure_12.4/panel_b_tx35_ssp585_2041-2060_80perc-agreement-final.pdf\n",
      "/home/jservon/Chapter12_IPCC/WG1_github/Chapter-12/Figures/figs/global_figure_12.4/panel_c_tx35_ssp585_2081-2100_80perc-agreement.pdf\n",
      "pdf90 /home/jservon/Chapter12_IPCC/WG1_github/Chapter-12/Figures/figs/global_figure_12.4/panel_c_tx35_ssp585_2081-2100_80perc-agreement.pdf ; mv panel_c_tx35_ssp585_2081-2100_80perc-agreement-rotated90.pdf /home/jservon/Chapter12_IPCC/WG1_github/Chapter-12/Figures/figs/global_figure_12.4/panel_c_tx35_ssp585_2081-2100_80perc-agreement-final.pdf\n",
      "/home/jservon/Chapter12_IPCC/WG1_github/Chapter-12/Figures/figs/global_figure_12.4/panel_d_HI41_ssp126_2081-2100_80perc-agreement.pdf\n",
      "pdf90 /home/jservon/Chapter12_IPCC/WG1_github/Chapter-12/Figures/figs/global_figure_12.4/panel_d_HI41_ssp126_2081-2100_80perc-agreement.pdf ; mv panel_d_HI41_ssp126_2081-2100_80perc-agreement-rotated90.pdf /home/jservon/Chapter12_IPCC/WG1_github/Chapter-12/Figures/figs/global_figure_12.4/panel_d_HI41_ssp126_2081-2100_80perc-agreement-final.pdf\n",
      "/home/jservon/Chapter12_IPCC/WG1_github/Chapter-12/Figures/figs/global_figure_12.4/panel_e_HI41_ssp585_2041-2060_80perc-agreement.pdf\n",
      "pdf90 /home/jservon/Chapter12_IPCC/WG1_github/Chapter-12/Figures/figs/global_figure_12.4/panel_e_HI41_ssp585_2041-2060_80perc-agreement.pdf ; mv panel_e_HI41_ssp585_2041-2060_80perc-agreement-rotated90.pdf /home/jservon/Chapter12_IPCC/WG1_github/Chapter-12/Figures/figs/global_figure_12.4/panel_e_HI41_ssp585_2041-2060_80perc-agreement-final.pdf\n",
      "/home/jservon/Chapter12_IPCC/WG1_github/Chapter-12/Figures/figs/global_figure_12.4/panel_f_HI41_ssp585_2081-2100_80perc-agreement.pdf\n",
      "pdf90 /home/jservon/Chapter12_IPCC/WG1_github/Chapter-12/Figures/figs/global_figure_12.4/panel_f_HI41_ssp585_2081-2100_80perc-agreement.pdf ; mv panel_f_HI41_ssp585_2081-2100_80perc-agreement-rotated90.pdf /home/jservon/Chapter12_IPCC/WG1_github/Chapter-12/Figures/figs/global_figure_12.4/panel_f_HI41_ssp585_2081-2100_80perc-agreement-final.pdf\n",
      "/home/jservon/Chapter12_IPCC/WG1_github/Chapter-12/Figures/figs/global_figure_12.4/panel_g_DF6_ssp126_farch_80perc-agreement.pdf\n",
      "pdf90 /home/jservon/Chapter12_IPCC/WG1_github/Chapter-12/Figures/figs/global_figure_12.4/panel_g_DF6_ssp126_farch_80perc-agreement.pdf ; mv panel_g_DF6_ssp126_farch_80perc-agreement-rotated90.pdf /home/jservon/Chapter12_IPCC/WG1_github/Chapter-12/Figures/figs/global_figure_12.4/panel_g_DF6_ssp126_farch_80perc-agreement-final.pdf\n",
      "/home/jservon/Chapter12_IPCC/WG1_github/Chapter-12/Figures/figs/global_figure_12.4/panel_h_DF6_ssp585_midch_80perc-agreement.pdf\n",
      "pdf90 /home/jservon/Chapter12_IPCC/WG1_github/Chapter-12/Figures/figs/global_figure_12.4/panel_h_DF6_ssp585_midch_80perc-agreement.pdf ; mv panel_h_DF6_ssp585_midch_80perc-agreement-rotated90.pdf /home/jservon/Chapter12_IPCC/WG1_github/Chapter-12/Figures/figs/global_figure_12.4/panel_h_DF6_ssp585_midch_80perc-agreement-final.pdf\n",
      "/home/jservon/Chapter12_IPCC/WG1_github/Chapter-12/Figures/figs/global_figure_12.4/panel_i_DF6_ssp585_farch_80perc-agreement.pdf\n",
      "pdf90 /home/jservon/Chapter12_IPCC/WG1_github/Chapter-12/Figures/figs/global_figure_12.4/panel_i_DF6_ssp585_farch_80perc-agreement.pdf ; mv panel_i_DF6_ssp585_farch_80perc-agreement-rotated90.pdf /home/jservon/Chapter12_IPCC/WG1_github/Chapter-12/Figures/figs/global_figure_12.4/panel_i_DF6_ssp585_farch_80perc-agreement-final.pdf\n",
      "/home/jservon/Chapter12_IPCC/WG1_github/Chapter-12/Figures/figs/global_figure_12.4/DF6_colorbar.pdf\n",
      "pdf90 /home/jservon/Chapter12_IPCC/WG1_github/Chapter-12/Figures/figs/global_figure_12.4/DF6_colorbar.pdf ; mv DF6_colorbar-rotated90.pdf /home/jservon/Chapter12_IPCC/WG1_github/Chapter-12/Figures/figs/global_figure_12.4/DF6_colorbar-final.pdf\n",
      "/home/jservon/Chapter12_IPCC/WG1_github/Chapter-12/Figures/figs/global_figure_12.4/HI41_colorbar.pdf\n",
      "pdf90 /home/jservon/Chapter12_IPCC/WG1_github/Chapter-12/Figures/figs/global_figure_12.4/HI41_colorbar.pdf ; mv HI41_colorbar-rotated90.pdf /home/jservon/Chapter12_IPCC/WG1_github/Chapter-12/Figures/figs/global_figure_12.4/HI41_colorbar-final.pdf\n",
      "/home/jservon/Chapter12_IPCC/WG1_github/Chapter-12/Figures/figs/global_figure_12.4/tx35_colorbar.pdf\n",
      "pdf90 /home/jservon/Chapter12_IPCC/WG1_github/Chapter-12/Figures/figs/global_figure_12.4/tx35_colorbar.pdf ; mv tx35_colorbar-rotated90.pdf /home/jservon/Chapter12_IPCC/WG1_github/Chapter-12/Figures/figs/global_figure_12.4/tx35_colorbar-final.pdf\n",
      "/home/jservon/Chapter12_IPCC/WG1_github/Chapter-12/Figures/figs/global_figure_12.4/panel_j_mrso_ssp126_2081-2100_80perc-agreement.pdf\n",
      "pdf90 /home/jservon/Chapter12_IPCC/WG1_github/Chapter-12/Figures/figs/global_figure_12.4/panel_j_mrso_ssp126_2081-2100_80perc-agreement.pdf ; mv panel_j_mrso_ssp126_2081-2100_80perc-agreement-rotated90.pdf /home/jservon/Chapter12_IPCC/WG1_github/Chapter-12/Figures/figs/global_figure_12.4/panel_j_mrso_ssp126_2081-2100_80perc-agreement-final.pdf\n",
      "/home/jservon/Chapter12_IPCC/WG1_github/Chapter-12/Figures/figs/global_figure_12.4/panel_k_mrso_ssp585_2041-2060_80perc-agreement.pdf\n",
      "pdf90 /home/jservon/Chapter12_IPCC/WG1_github/Chapter-12/Figures/figs/global_figure_12.4/panel_k_mrso_ssp585_2041-2060_80perc-agreement.pdf ; mv panel_k_mrso_ssp585_2041-2060_80perc-agreement-rotated90.pdf /home/jservon/Chapter12_IPCC/WG1_github/Chapter-12/Figures/figs/global_figure_12.4/panel_k_mrso_ssp585_2041-2060_80perc-agreement-final.pdf\n",
      "/home/jservon/Chapter12_IPCC/WG1_github/Chapter-12/Figures/figs/global_figure_12.4/panel_l_mrso_ssp585_2081-2100_80perc-agreement.pdf\n",
      "pdf90 /home/jservon/Chapter12_IPCC/WG1_github/Chapter-12/Figures/figs/global_figure_12.4/panel_l_mrso_ssp585_2081-2100_80perc-agreement.pdf ; mv panel_l_mrso_ssp585_2081-2100_80perc-agreement-rotated90.pdf /home/jservon/Chapter12_IPCC/WG1_github/Chapter-12/Figures/figs/global_figure_12.4/panel_l_mrso_ssp585_2081-2100_80perc-agreement-final.pdf\n",
      "/home/jservon/Chapter12_IPCC/WG1_github/Chapter-12/Figures/figs/global_figure_12.4/mrso_colorbar.pdf\n",
      "pdf90 /home/jservon/Chapter12_IPCC/WG1_github/Chapter-12/Figures/figs/global_figure_12.4/mrso_colorbar.pdf ; mv mrso_colorbar-rotated90.pdf /home/jservon/Chapter12_IPCC/WG1_github/Chapter-12/Figures/figs/global_figure_12.4/mrso_colorbar-final.pdf\n",
      "/home/jservon/Chapter12_IPCC/WG1_github/Chapter-12/Figures/figs/global_figure_12.4/panel_m_wind_ssp126_2081-2100_80perc-agreement.pdf\n",
      "pdf90 /home/jservon/Chapter12_IPCC/WG1_github/Chapter-12/Figures/figs/global_figure_12.4/panel_m_wind_ssp126_2081-2100_80perc-agreement.pdf ; mv panel_m_wind_ssp126_2081-2100_80perc-agreement-rotated90.pdf /home/jservon/Chapter12_IPCC/WG1_github/Chapter-12/Figures/figs/global_figure_12.4/panel_m_wind_ssp126_2081-2100_80perc-agreement-final.pdf\n",
      "/home/jservon/Chapter12_IPCC/WG1_github/Chapter-12/Figures/figs/global_figure_12.4/panel_n_wind_ssp585_2041-2060_80perc-agreement.pdf\n",
      "pdf90 /home/jservon/Chapter12_IPCC/WG1_github/Chapter-12/Figures/figs/global_figure_12.4/panel_n_wind_ssp585_2041-2060_80perc-agreement.pdf ; mv panel_n_wind_ssp585_2041-2060_80perc-agreement-rotated90.pdf /home/jservon/Chapter12_IPCC/WG1_github/Chapter-12/Figures/figs/global_figure_12.4/panel_n_wind_ssp585_2041-2060_80perc-agreement-final.pdf\n",
      "/home/jservon/Chapter12_IPCC/WG1_github/Chapter-12/Figures/figs/global_figure_12.4/panel_o_wind_ssp585_2081-2100_80perc-agreement.pdf\n",
      "pdf90 /home/jservon/Chapter12_IPCC/WG1_github/Chapter-12/Figures/figs/global_figure_12.4/panel_o_wind_ssp585_2081-2100_80perc-agreement.pdf ; mv panel_o_wind_ssp585_2081-2100_80perc-agreement-rotated90.pdf /home/jservon/Chapter12_IPCC/WG1_github/Chapter-12/Figures/figs/global_figure_12.4/panel_o_wind_ssp585_2081-2100_80perc-agreement-final.pdf\n"
     ]
    },
    {
     "name": "stdout",
     "output_type": "stream",
     "text": [
      "/home/jservon/Chapter12_IPCC/WG1_github/Chapter-12/Figures/figs/global_figure_12.4/wind_colorbar.pdf\n",
      "pdf90 /home/jservon/Chapter12_IPCC/WG1_github/Chapter-12/Figures/figs/global_figure_12.4/wind_colorbar.pdf ; mv wind_colorbar-rotated90.pdf /home/jservon/Chapter12_IPCC/WG1_github/Chapter-12/Figures/figs/global_figure_12.4/wind_colorbar-final.pdf\n",
      "/home/jservon/Chapter12_IPCC/WG1_github/Chapter-12/Figures/figs/global_figure_12.4/panel_q_ESL_2050_RCP85-final.pdf\n",
      "/home/jservon/Chapter12_IPCC/WG1_github/Chapter-12/Figures/figs/global_figure_12.4/panel_r_ESL_2100_RCP85-final.pdf\n",
      "/home/jservon/Chapter12_IPCC/WG1_github/Chapter-12/Figures/figs/global_figure_12.4/panel_p_ESL_2100_RCP45-final.pdf\n"
     ]
    }
   ],
   "source": [
    "import os, glob\n",
    "\n",
    "\n",
    "lopdf = glob.glob(os.getwcd()+'/../../figs/global_figure_12.4/*.pdf')\n",
    "for wpdf in lopdf:\n",
    "    print wpdf\n",
    "    if 'rotated90' not in wpdf and '-final.pdf' not in wpdf and 'colorbar' not in wpdf:\n",
    "        rotated = wpdf.replace('.pdf','-rotated90.pdf')\n",
    "        finalname = rotated.replace('-rotated90.pdf','-final.pdf')\n",
    "        cmd = 'pdf90 '+wpdf+' ; mv '+os.path.basename(rotated)+' '+finalname\n",
    "        print cmd\n",
    "        os.system(cmd)"
   ]
  },
  {
   "cell_type": "code",
   "execution_count": 3,
   "metadata": {},
   "outputs": [
    {
     "data": {
      "text/plain": [
       "'/home/jservon/Chapter12_IPCC/WG1_github/Chapter-12/Figures/scripts/global_figure_12.4'"
      ]
     },
     "execution_count": 3,
     "metadata": {},
     "output_type": "execute_result"
    }
   ],
   "source": [
    "os.getcwd()"
   ]
  },
  {
   "cell_type": "code",
   "execution_count": null,
   "metadata": {},
   "outputs": [],
   "source": []
  }
 ],
 "metadata": {
  "kernelspec": {
   "display_name": "Python 2",
   "language": "python",
   "name": "python2"
  },
  "language_info": {
   "codemirror_mode": {
    "name": "ipython",
    "version": 2
   },
   "file_extension": ".py",
   "mimetype": "text/x-python",
   "name": "python",
   "nbconvert_exporter": "python",
   "pygments_lexer": "ipython2",
   "version": "2.7.15"
  }
 },
 "nbformat": 4,
 "nbformat_minor": 2
}
